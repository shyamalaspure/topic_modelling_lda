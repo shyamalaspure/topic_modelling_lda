{
 "cells": [
  {
   "cell_type": "markdown",
   "metadata": {},
   "source": [
    "# Import important Libraries"
   ]
  },
  {
   "cell_type": "code",
   "execution_count": 1,
   "metadata": {},
   "outputs": [
    {
     "name": "stderr",
     "output_type": "stream",
     "text": [
      "unable to import 'smart_open.gcs', disabling that module\n"
     ]
    }
   ],
   "source": [
    "import pandas as pd\n",
    "import json\n",
    "import os\n",
    "import re\n",
    "from pprint import pprint\n",
    "import numpy as np\n",
    "from scipy.sparse.linalg import svds\n",
    "import spacy\n",
    "from nltk.tokenize import word_tokenize\n",
    "import pickle as pkl\n",
    "from bs4 import BeautifulSoup\n",
    "from nltk.tokenize import ToktokTokenizer\n",
    "from string import punctuation\n",
    "from nltk.stem import wordnet\n",
    "import gensim\n",
    "import gensim.corpora as corpora\n",
    "from gensim.utils import simple_preprocess\n",
    "from gensim.models import CoherenceModel\n",
    "import matplotlib.pyplot as plt"
   ]
  },
  {
   "cell_type": "markdown",
   "metadata": {},
   "source": [
    "# Import dataset"
   ]
  },
  {
   "cell_type": "markdown",
   "metadata": {},
   "source": [
    "Dataset used from stackoverflow website https://data.stackexchange.com/stackoverflow/query/edit/1197456#resultSets"
   ]
  },
  {
   "cell_type": "code",
   "execution_count": 2,
   "metadata": {},
   "outputs": [
    {
     "data": {
      "text/html": [
       "<div>\n",
       "<style scoped>\n",
       "    .dataframe tbody tr th:only-of-type {\n",
       "        vertical-align: middle;\n",
       "    }\n",
       "\n",
       "    .dataframe tbody tr th {\n",
       "        vertical-align: top;\n",
       "    }\n",
       "\n",
       "    .dataframe thead th {\n",
       "        text-align: right;\n",
       "    }\n",
       "</style>\n",
       "<table border=\"1\" class=\"dataframe\">\n",
       "  <thead>\n",
       "    <tr style=\"text-align: right;\">\n",
       "      <th></th>\n",
       "      <th>Id</th>\n",
       "      <th>PostTypeId</th>\n",
       "      <th>AcceptedAnswerId</th>\n",
       "      <th>ParentId</th>\n",
       "      <th>CreationDate</th>\n",
       "      <th>DeletionDate</th>\n",
       "      <th>Score</th>\n",
       "      <th>ViewCount</th>\n",
       "      <th>Body</th>\n",
       "      <th>OwnerUserId</th>\n",
       "      <th>...</th>\n",
       "      <th>LastEditorDisplayName</th>\n",
       "      <th>LastEditDate</th>\n",
       "      <th>LastActivityDate</th>\n",
       "      <th>Title</th>\n",
       "      <th>Tags</th>\n",
       "      <th>AnswerCount</th>\n",
       "      <th>CommentCount</th>\n",
       "      <th>FavoriteCount</th>\n",
       "      <th>ClosedDate</th>\n",
       "      <th>CommunityOwnedDate</th>\n",
       "    </tr>\n",
       "  </thead>\n",
       "  <tbody>\n",
       "    <tr>\n",
       "      <th>0</th>\n",
       "      <td>4</td>\n",
       "      <td>1</td>\n",
       "      <td>7.0</td>\n",
       "      <td>NaN</td>\n",
       "      <td>2008-07-31 21:42:52</td>\n",
       "      <td>NaN</td>\n",
       "      <td>658</td>\n",
       "      <td>46852.0</td>\n",
       "      <td>&lt;p&gt;I want to use a &lt;code&gt;Track-Bar&lt;/code&gt; to c...</td>\n",
       "      <td>8.0</td>\n",
       "      <td>...</td>\n",
       "      <td>Rich B</td>\n",
       "      <td>2020-02-28 11:38:30</td>\n",
       "      <td>2020-02-28 11:38:30</td>\n",
       "      <td>Convert Decimal to Double</td>\n",
       "      <td>&lt;c#&gt;&lt;floating-point&gt;&lt;type-conversion&gt;&lt;double&gt;&lt;...</td>\n",
       "      <td>13.0</td>\n",
       "      <td>5</td>\n",
       "      <td>49.0</td>\n",
       "      <td>NaN</td>\n",
       "      <td>2012-10-31 16:42:47</td>\n",
       "    </tr>\n",
       "    <tr>\n",
       "      <th>1</th>\n",
       "      <td>6</td>\n",
       "      <td>1</td>\n",
       "      <td>31.0</td>\n",
       "      <td>NaN</td>\n",
       "      <td>2008-07-31 22:08:08</td>\n",
       "      <td>NaN</td>\n",
       "      <td>293</td>\n",
       "      <td>19107.0</td>\n",
       "      <td>&lt;p&gt;I have an absolutely positioned &lt;code&gt;div&lt;/...</td>\n",
       "      <td>9.0</td>\n",
       "      <td>...</td>\n",
       "      <td>Rich B</td>\n",
       "      <td>2019-07-19 01:43:04</td>\n",
       "      <td>2019-07-19 01:43:04</td>\n",
       "      <td>Percentage width child element in absolutely p...</td>\n",
       "      <td>&lt;html&gt;&lt;css&gt;&lt;internet-explorer-7&gt;</td>\n",
       "      <td>6.0</td>\n",
       "      <td>0</td>\n",
       "      <td>11.0</td>\n",
       "      <td>NaN</td>\n",
       "      <td>NaN</td>\n",
       "    </tr>\n",
       "    <tr>\n",
       "      <th>2</th>\n",
       "      <td>7</td>\n",
       "      <td>2</td>\n",
       "      <td>NaN</td>\n",
       "      <td>4.0</td>\n",
       "      <td>2008-07-31 22:17:57</td>\n",
       "      <td>NaN</td>\n",
       "      <td>440</td>\n",
       "      <td>NaN</td>\n",
       "      <td>&lt;p&gt;An explicit cast to &lt;code&gt;double&lt;/code&gt; lik...</td>\n",
       "      <td>9.0</td>\n",
       "      <td>...</td>\n",
       "      <td>NaN</td>\n",
       "      <td>2019-10-21 14:03:54</td>\n",
       "      <td>2019-10-21 14:03:54</td>\n",
       "      <td>NaN</td>\n",
       "      <td>NaN</td>\n",
       "      <td>NaN</td>\n",
       "      <td>0</td>\n",
       "      <td>NaN</td>\n",
       "      <td>NaN</td>\n",
       "      <td>NaN</td>\n",
       "    </tr>\n",
       "    <tr>\n",
       "      <th>3</th>\n",
       "      <td>9</td>\n",
       "      <td>1</td>\n",
       "      <td>1404.0</td>\n",
       "      <td>NaN</td>\n",
       "      <td>2008-07-31 23:40:59</td>\n",
       "      <td>NaN</td>\n",
       "      <td>1819</td>\n",
       "      <td>594316.0</td>\n",
       "      <td>&lt;p&gt;Given a &lt;code&gt;DateTime&lt;/code&gt; representing ...</td>\n",
       "      <td>1.0</td>\n",
       "      <td>...</td>\n",
       "      <td>Rich B</td>\n",
       "      <td>2018-04-21 17:48:14</td>\n",
       "      <td>2020-02-29 01:31:43</td>\n",
       "      <td>How do I calculate someone's age in C#?</td>\n",
       "      <td>&lt;c#&gt;&lt;.net&gt;&lt;datetime&gt;</td>\n",
       "      <td>61.0</td>\n",
       "      <td>7</td>\n",
       "      <td>450.0</td>\n",
       "      <td>NaN</td>\n",
       "      <td>2011-08-16 19:40:43</td>\n",
       "    </tr>\n",
       "    <tr>\n",
       "      <th>4</th>\n",
       "      <td>11</td>\n",
       "      <td>1</td>\n",
       "      <td>1248.0</td>\n",
       "      <td>NaN</td>\n",
       "      <td>2008-07-31 23:55:37</td>\n",
       "      <td>NaN</td>\n",
       "      <td>1488</td>\n",
       "      <td>156068.0</td>\n",
       "      <td>&lt;p&gt;Given a specific &lt;code&gt;DateTime&lt;/code&gt; valu...</td>\n",
       "      <td>1.0</td>\n",
       "      <td>...</td>\n",
       "      <td>user2370523</td>\n",
       "      <td>2017-06-04 15:51:19</td>\n",
       "      <td>2019-05-26 02:31:53</td>\n",
       "      <td>Calculate relative time in C#</td>\n",
       "      <td>&lt;c#&gt;&lt;datetime&gt;&lt;time&gt;&lt;datediff&gt;&lt;relative-time-s...</td>\n",
       "      <td>37.0</td>\n",
       "      <td>4</td>\n",
       "      <td>540.0</td>\n",
       "      <td>NaN</td>\n",
       "      <td>2009-09-04 13:15:59</td>\n",
       "    </tr>\n",
       "  </tbody>\n",
       "</table>\n",
       "<p>5 rows × 22 columns</p>\n",
       "</div>"
      ],
      "text/plain": [
       "   Id  PostTypeId  AcceptedAnswerId  ParentId         CreationDate  \\\n",
       "0   4           1               7.0       NaN  2008-07-31 21:42:52   \n",
       "1   6           1              31.0       NaN  2008-07-31 22:08:08   \n",
       "2   7           2               NaN       4.0  2008-07-31 22:17:57   \n",
       "3   9           1            1404.0       NaN  2008-07-31 23:40:59   \n",
       "4  11           1            1248.0       NaN  2008-07-31 23:55:37   \n",
       "\n",
       "   DeletionDate  Score  ViewCount  \\\n",
       "0           NaN    658    46852.0   \n",
       "1           NaN    293    19107.0   \n",
       "2           NaN    440        NaN   \n",
       "3           NaN   1819   594316.0   \n",
       "4           NaN   1488   156068.0   \n",
       "\n",
       "                                                Body  OwnerUserId  ...  \\\n",
       "0  <p>I want to use a <code>Track-Bar</code> to c...          8.0  ...   \n",
       "1  <p>I have an absolutely positioned <code>div</...          9.0  ...   \n",
       "2  <p>An explicit cast to <code>double</code> lik...          9.0  ...   \n",
       "3  <p>Given a <code>DateTime</code> representing ...          1.0  ...   \n",
       "4  <p>Given a specific <code>DateTime</code> valu...          1.0  ...   \n",
       "\n",
       "  LastEditorDisplayName         LastEditDate     LastActivityDate  \\\n",
       "0                Rich B  2020-02-28 11:38:30  2020-02-28 11:38:30   \n",
       "1                Rich B  2019-07-19 01:43:04  2019-07-19 01:43:04   \n",
       "2                   NaN  2019-10-21 14:03:54  2019-10-21 14:03:54   \n",
       "3                Rich B  2018-04-21 17:48:14  2020-02-29 01:31:43   \n",
       "4           user2370523  2017-06-04 15:51:19  2019-05-26 02:31:53   \n",
       "\n",
       "                                               Title  \\\n",
       "0                          Convert Decimal to Double   \n",
       "1  Percentage width child element in absolutely p...   \n",
       "2                                                NaN   \n",
       "3            How do I calculate someone's age in C#?   \n",
       "4                      Calculate relative time in C#   \n",
       "\n",
       "                                                Tags AnswerCount CommentCount  \\\n",
       "0  <c#><floating-point><type-conversion><double><...        13.0            5   \n",
       "1                   <html><css><internet-explorer-7>         6.0            0   \n",
       "2                                                NaN         NaN            0   \n",
       "3                               <c#><.net><datetime>        61.0            7   \n",
       "4  <c#><datetime><time><datediff><relative-time-s...        37.0            4   \n",
       "\n",
       "   FavoriteCount  ClosedDate   CommunityOwnedDate  \n",
       "0           49.0         NaN  2012-10-31 16:42:47  \n",
       "1           11.0         NaN                  NaN  \n",
       "2            NaN         NaN                  NaN  \n",
       "3          450.0         NaN  2011-08-16 19:40:43  \n",
       "4          540.0         NaN  2009-09-04 13:15:59  \n",
       "\n",
       "[5 rows x 22 columns]"
      ]
     },
     "execution_count": 2,
     "metadata": {},
     "output_type": "execute_result"
    }
   ],
   "source": [
    "data_blogs=pd.read_csv(r\"C:\\Users\\rh0339\\Downloads\\stack_overflow\\1.csv\")\n",
    "data_blogs.head()"
   ]
  },
  {
   "cell_type": "code",
   "execution_count": 3,
   "metadata": {},
   "outputs": [
    {
     "data": {
      "text/html": [
       "<div>\n",
       "<style scoped>\n",
       "    .dataframe tbody tr th:only-of-type {\n",
       "        vertical-align: middle;\n",
       "    }\n",
       "\n",
       "    .dataframe tbody tr th {\n",
       "        vertical-align: top;\n",
       "    }\n",
       "\n",
       "    .dataframe thead th {\n",
       "        text-align: right;\n",
       "    }\n",
       "</style>\n",
       "<table border=\"1\" class=\"dataframe\">\n",
       "  <thead>\n",
       "    <tr style=\"text-align: right;\">\n",
       "      <th></th>\n",
       "      <th>_id</th>\n",
       "      <th>PostTypeId</th>\n",
       "      <th>AcceptedAnswerId</th>\n",
       "      <th>ParentId</th>\n",
       "      <th>CreationDate</th>\n",
       "      <th>DeletionDate</th>\n",
       "      <th>Score</th>\n",
       "      <th>ViewCount</th>\n",
       "      <th>description</th>\n",
       "      <th>OwnerUserId</th>\n",
       "      <th>...</th>\n",
       "      <th>LastEditorDisplayName</th>\n",
       "      <th>LastEditDate</th>\n",
       "      <th>LastActivityDate</th>\n",
       "      <th>Title</th>\n",
       "      <th>tags</th>\n",
       "      <th>AnswerCount</th>\n",
       "      <th>CommentCount</th>\n",
       "      <th>FavoriteCount</th>\n",
       "      <th>ClosedDate</th>\n",
       "      <th>CommunityOwnedDate</th>\n",
       "    </tr>\n",
       "  </thead>\n",
       "  <tbody>\n",
       "    <tr>\n",
       "      <th>0</th>\n",
       "      <td>4</td>\n",
       "      <td>1</td>\n",
       "      <td>7.0</td>\n",
       "      <td>NaN</td>\n",
       "      <td>2008-07-31 21:42:52</td>\n",
       "      <td>NaN</td>\n",
       "      <td>658</td>\n",
       "      <td>46852.0</td>\n",
       "      <td>&lt;p&gt;I want to use a &lt;code&gt;Track-Bar&lt;/code&gt; to c...</td>\n",
       "      <td>8.0</td>\n",
       "      <td>...</td>\n",
       "      <td>Rich B</td>\n",
       "      <td>2020-02-28 11:38:30</td>\n",
       "      <td>2020-02-28 11:38:30</td>\n",
       "      <td>Convert Decimal to Double</td>\n",
       "      <td>&lt;c#&gt;&lt;floating-point&gt;&lt;type-conversion&gt;&lt;double&gt;&lt;...</td>\n",
       "      <td>13.0</td>\n",
       "      <td>5</td>\n",
       "      <td>49.0</td>\n",
       "      <td>NaN</td>\n",
       "      <td>2012-10-31 16:42:47</td>\n",
       "    </tr>\n",
       "    <tr>\n",
       "      <th>1</th>\n",
       "      <td>6</td>\n",
       "      <td>1</td>\n",
       "      <td>31.0</td>\n",
       "      <td>NaN</td>\n",
       "      <td>2008-07-31 22:08:08</td>\n",
       "      <td>NaN</td>\n",
       "      <td>293</td>\n",
       "      <td>19107.0</td>\n",
       "      <td>&lt;p&gt;I have an absolutely positioned &lt;code&gt;div&lt;/...</td>\n",
       "      <td>9.0</td>\n",
       "      <td>...</td>\n",
       "      <td>Rich B</td>\n",
       "      <td>2019-07-19 01:43:04</td>\n",
       "      <td>2019-07-19 01:43:04</td>\n",
       "      <td>Percentage width child element in absolutely p...</td>\n",
       "      <td>&lt;html&gt;&lt;css&gt;&lt;internet-explorer-7&gt;</td>\n",
       "      <td>6.0</td>\n",
       "      <td>0</td>\n",
       "      <td>11.0</td>\n",
       "      <td>NaN</td>\n",
       "      <td>NaN</td>\n",
       "    </tr>\n",
       "    <tr>\n",
       "      <th>2</th>\n",
       "      <td>7</td>\n",
       "      <td>2</td>\n",
       "      <td>NaN</td>\n",
       "      <td>4.0</td>\n",
       "      <td>2008-07-31 22:17:57</td>\n",
       "      <td>NaN</td>\n",
       "      <td>440</td>\n",
       "      <td>NaN</td>\n",
       "      <td>&lt;p&gt;An explicit cast to &lt;code&gt;double&lt;/code&gt; lik...</td>\n",
       "      <td>9.0</td>\n",
       "      <td>...</td>\n",
       "      <td>NaN</td>\n",
       "      <td>2019-10-21 14:03:54</td>\n",
       "      <td>2019-10-21 14:03:54</td>\n",
       "      <td>NaN</td>\n",
       "      <td>NaN</td>\n",
       "      <td>NaN</td>\n",
       "      <td>0</td>\n",
       "      <td>NaN</td>\n",
       "      <td>NaN</td>\n",
       "      <td>NaN</td>\n",
       "    </tr>\n",
       "    <tr>\n",
       "      <th>3</th>\n",
       "      <td>9</td>\n",
       "      <td>1</td>\n",
       "      <td>1404.0</td>\n",
       "      <td>NaN</td>\n",
       "      <td>2008-07-31 23:40:59</td>\n",
       "      <td>NaN</td>\n",
       "      <td>1819</td>\n",
       "      <td>594316.0</td>\n",
       "      <td>&lt;p&gt;Given a &lt;code&gt;DateTime&lt;/code&gt; representing ...</td>\n",
       "      <td>1.0</td>\n",
       "      <td>...</td>\n",
       "      <td>Rich B</td>\n",
       "      <td>2018-04-21 17:48:14</td>\n",
       "      <td>2020-02-29 01:31:43</td>\n",
       "      <td>How do I calculate someone's age in C#?</td>\n",
       "      <td>&lt;c#&gt;&lt;.net&gt;&lt;datetime&gt;</td>\n",
       "      <td>61.0</td>\n",
       "      <td>7</td>\n",
       "      <td>450.0</td>\n",
       "      <td>NaN</td>\n",
       "      <td>2011-08-16 19:40:43</td>\n",
       "    </tr>\n",
       "    <tr>\n",
       "      <th>4</th>\n",
       "      <td>11</td>\n",
       "      <td>1</td>\n",
       "      <td>1248.0</td>\n",
       "      <td>NaN</td>\n",
       "      <td>2008-07-31 23:55:37</td>\n",
       "      <td>NaN</td>\n",
       "      <td>1488</td>\n",
       "      <td>156068.0</td>\n",
       "      <td>&lt;p&gt;Given a specific &lt;code&gt;DateTime&lt;/code&gt; valu...</td>\n",
       "      <td>1.0</td>\n",
       "      <td>...</td>\n",
       "      <td>user2370523</td>\n",
       "      <td>2017-06-04 15:51:19</td>\n",
       "      <td>2019-05-26 02:31:53</td>\n",
       "      <td>Calculate relative time in C#</td>\n",
       "      <td>&lt;c#&gt;&lt;datetime&gt;&lt;time&gt;&lt;datediff&gt;&lt;relative-time-s...</td>\n",
       "      <td>37.0</td>\n",
       "      <td>4</td>\n",
       "      <td>540.0</td>\n",
       "      <td>NaN</td>\n",
       "      <td>2009-09-04 13:15:59</td>\n",
       "    </tr>\n",
       "  </tbody>\n",
       "</table>\n",
       "<p>5 rows × 22 columns</p>\n",
       "</div>"
      ],
      "text/plain": [
       "   _id  PostTypeId  AcceptedAnswerId  ParentId         CreationDate  \\\n",
       "0    4           1               7.0       NaN  2008-07-31 21:42:52   \n",
       "1    6           1              31.0       NaN  2008-07-31 22:08:08   \n",
       "2    7           2               NaN       4.0  2008-07-31 22:17:57   \n",
       "3    9           1            1404.0       NaN  2008-07-31 23:40:59   \n",
       "4   11           1            1248.0       NaN  2008-07-31 23:55:37   \n",
       "\n",
       "   DeletionDate  Score  ViewCount  \\\n",
       "0           NaN    658    46852.0   \n",
       "1           NaN    293    19107.0   \n",
       "2           NaN    440        NaN   \n",
       "3           NaN   1819   594316.0   \n",
       "4           NaN   1488   156068.0   \n",
       "\n",
       "                                         description  OwnerUserId  ...  \\\n",
       "0  <p>I want to use a <code>Track-Bar</code> to c...          8.0  ...   \n",
       "1  <p>I have an absolutely positioned <code>div</...          9.0  ...   \n",
       "2  <p>An explicit cast to <code>double</code> lik...          9.0  ...   \n",
       "3  <p>Given a <code>DateTime</code> representing ...          1.0  ...   \n",
       "4  <p>Given a specific <code>DateTime</code> valu...          1.0  ...   \n",
       "\n",
       "  LastEditorDisplayName         LastEditDate     LastActivityDate  \\\n",
       "0                Rich B  2020-02-28 11:38:30  2020-02-28 11:38:30   \n",
       "1                Rich B  2019-07-19 01:43:04  2019-07-19 01:43:04   \n",
       "2                   NaN  2019-10-21 14:03:54  2019-10-21 14:03:54   \n",
       "3                Rich B  2018-04-21 17:48:14  2020-02-29 01:31:43   \n",
       "4           user2370523  2017-06-04 15:51:19  2019-05-26 02:31:53   \n",
       "\n",
       "                                               Title  \\\n",
       "0                          Convert Decimal to Double   \n",
       "1  Percentage width child element in absolutely p...   \n",
       "2                                                NaN   \n",
       "3            How do I calculate someone's age in C#?   \n",
       "4                      Calculate relative time in C#   \n",
       "\n",
       "                                                tags AnswerCount CommentCount  \\\n",
       "0  <c#><floating-point><type-conversion><double><...        13.0            5   \n",
       "1                   <html><css><internet-explorer-7>         6.0            0   \n",
       "2                                                NaN         NaN            0   \n",
       "3                               <c#><.net><datetime>        61.0            7   \n",
       "4  <c#><datetime><time><datediff><relative-time-s...        37.0            4   \n",
       "\n",
       "   FavoriteCount  ClosedDate   CommunityOwnedDate  \n",
       "0           49.0         NaN  2012-10-31 16:42:47  \n",
       "1           11.0         NaN                  NaN  \n",
       "2            NaN         NaN                  NaN  \n",
       "3          450.0         NaN  2011-08-16 19:40:43  \n",
       "4          540.0         NaN  2009-09-04 13:15:59  \n",
       "\n",
       "[5 rows x 22 columns]"
      ]
     },
     "execution_count": 3,
     "metadata": {},
     "output_type": "execute_result"
    }
   ],
   "source": [
    "data_blogs=data_blogs.rename(columns={'Id':'_id','Body':'description','Tags':'tags'})\n",
    "data_blogs.head()"
   ]
  },
  {
   "cell_type": "code",
   "execution_count": 4,
   "metadata": {},
   "outputs": [
    {
     "data": {
      "text/plain": [
       "(46083, 22)"
      ]
     },
     "execution_count": 4,
     "metadata": {},
     "output_type": "execute_result"
    }
   ],
   "source": [
    "data_blogs.shape"
   ]
  },
  {
   "cell_type": "code",
   "execution_count": 5,
   "metadata": {},
   "outputs": [
    {
     "data": {
      "text/html": [
       "<div>\n",
       "<style scoped>\n",
       "    .dataframe tbody tr th:only-of-type {\n",
       "        vertical-align: middle;\n",
       "    }\n",
       "\n",
       "    .dataframe tbody tr th {\n",
       "        vertical-align: top;\n",
       "    }\n",
       "\n",
       "    .dataframe thead th {\n",
       "        text-align: right;\n",
       "    }\n",
       "</style>\n",
       "<table border=\"1\" class=\"dataframe\">\n",
       "  <thead>\n",
       "    <tr style=\"text-align: right;\">\n",
       "      <th></th>\n",
       "      <th>_id</th>\n",
       "      <th>tags</th>\n",
       "      <th>description</th>\n",
       "    </tr>\n",
       "  </thead>\n",
       "  <tbody>\n",
       "    <tr>\n",
       "      <th>0</th>\n",
       "      <td>4</td>\n",
       "      <td>&lt;c#&gt;&lt;floating-point&gt;&lt;type-conversion&gt;&lt;double&gt;&lt;...</td>\n",
       "      <td>&lt;p&gt;I want to use a &lt;code&gt;Track-Bar&lt;/code&gt; to c...</td>\n",
       "    </tr>\n",
       "    <tr>\n",
       "      <th>1</th>\n",
       "      <td>6</td>\n",
       "      <td>&lt;html&gt;&lt;css&gt;&lt;internet-explorer-7&gt;</td>\n",
       "      <td>&lt;p&gt;I have an absolutely positioned &lt;code&gt;div&lt;/...</td>\n",
       "    </tr>\n",
       "    <tr>\n",
       "      <th>2</th>\n",
       "      <td>7</td>\n",
       "      <td>NaN</td>\n",
       "      <td>&lt;p&gt;An explicit cast to &lt;code&gt;double&lt;/code&gt; lik...</td>\n",
       "    </tr>\n",
       "    <tr>\n",
       "      <th>3</th>\n",
       "      <td>9</td>\n",
       "      <td>&lt;c#&gt;&lt;.net&gt;&lt;datetime&gt;</td>\n",
       "      <td>&lt;p&gt;Given a &lt;code&gt;DateTime&lt;/code&gt; representing ...</td>\n",
       "    </tr>\n",
       "    <tr>\n",
       "      <th>4</th>\n",
       "      <td>11</td>\n",
       "      <td>&lt;c#&gt;&lt;datetime&gt;&lt;time&gt;&lt;datediff&gt;&lt;relative-time-s...</td>\n",
       "      <td>&lt;p&gt;Given a specific &lt;code&gt;DateTime&lt;/code&gt; valu...</td>\n",
       "    </tr>\n",
       "  </tbody>\n",
       "</table>\n",
       "</div>"
      ],
      "text/plain": [
       "   _id                                               tags  \\\n",
       "0    4  <c#><floating-point><type-conversion><double><...   \n",
       "1    6                   <html><css><internet-explorer-7>   \n",
       "2    7                                                NaN   \n",
       "3    9                               <c#><.net><datetime>   \n",
       "4   11  <c#><datetime><time><datediff><relative-time-s...   \n",
       "\n",
       "                                         description  \n",
       "0  <p>I want to use a <code>Track-Bar</code> to c...  \n",
       "1  <p>I have an absolutely positioned <code>div</...  \n",
       "2  <p>An explicit cast to <code>double</code> lik...  \n",
       "3  <p>Given a <code>DateTime</code> representing ...  \n",
       "4  <p>Given a specific <code>DateTime</code> valu...  "
      ]
     },
     "execution_count": 5,
     "metadata": {},
     "output_type": "execute_result"
    }
   ],
   "source": [
    "data_blogs = data_blogs[['_id','tags','description']]\n",
    "data_tags_1 = data_blogs\n",
    "data_blogs.head()"
   ]
  },
  {
   "cell_type": "markdown",
   "metadata": {},
   "source": [
    "# NA summary in dataset"
   ]
  },
  {
   "cell_type": "code",
   "execution_count": 6,
   "metadata": {},
   "outputs": [
    {
     "data": {
      "text/html": [
       "<div>\n",
       "<style scoped>\n",
       "    .dataframe tbody tr th:only-of-type {\n",
       "        vertical-align: middle;\n",
       "    }\n",
       "\n",
       "    .dataframe tbody tr th {\n",
       "        vertical-align: top;\n",
       "    }\n",
       "\n",
       "    .dataframe thead th {\n",
       "        text-align: right;\n",
       "    }\n",
       "</style>\n",
       "<table border=\"1\" class=\"dataframe\">\n",
       "  <thead>\n",
       "    <tr style=\"text-align: right;\">\n",
       "      <th></th>\n",
       "      <th>Feature</th>\n",
       "      <th>NA_count</th>\n",
       "      <th>NA_percentage</th>\n",
       "    </tr>\n",
       "  </thead>\n",
       "  <tbody>\n",
       "    <tr>\n",
       "      <th>0</th>\n",
       "      <td>_id</td>\n",
       "      <td>0</td>\n",
       "      <td>0.000000</td>\n",
       "    </tr>\n",
       "    <tr>\n",
       "      <th>1</th>\n",
       "      <td>tags</td>\n",
       "      <td>37086</td>\n",
       "      <td>80.476531</td>\n",
       "    </tr>\n",
       "    <tr>\n",
       "      <th>2</th>\n",
       "      <td>description</td>\n",
       "      <td>0</td>\n",
       "      <td>0.000000</td>\n",
       "    </tr>\n",
       "  </tbody>\n",
       "</table>\n",
       "</div>"
      ],
      "text/plain": [
       "       Feature  NA_count  NA_percentage\n",
       "0          _id         0       0.000000\n",
       "1         tags     37086      80.476531\n",
       "2  description         0       0.000000"
      ]
     },
     "execution_count": 6,
     "metadata": {},
     "output_type": "execute_result"
    }
   ],
   "source": [
    "def na_summary(df):\n",
    "    df_null = df.isnull().sum()\n",
    "    df_null = df_null.to_frame().reset_index()\n",
    "    df_null = df_null.rename(columns={'index':'Feature', 0:'NA_count'})\n",
    "    df_null['NA_percentage'] = df_null['NA_count']/df.shape[0]*100\n",
    "    return df_null\n",
    "na_summary(data_blogs)"
   ]
  },
  {
   "cell_type": "code",
   "execution_count": 7,
   "metadata": {},
   "outputs": [
    {
     "data": {
      "text/plain": [
       "(8997, 3)"
      ]
     },
     "execution_count": 7,
     "metadata": {},
     "output_type": "execute_result"
    }
   ],
   "source": [
    "data_blogs.dropna(subset=['tags'], inplace=True)\n",
    "data_blogs.shape"
   ]
  },
  {
   "cell_type": "code",
   "execution_count": 8,
   "metadata": {},
   "outputs": [
    {
     "data": {
      "text/html": [
       "<div>\n",
       "<style scoped>\n",
       "    .dataframe tbody tr th:only-of-type {\n",
       "        vertical-align: middle;\n",
       "    }\n",
       "\n",
       "    .dataframe tbody tr th {\n",
       "        vertical-align: top;\n",
       "    }\n",
       "\n",
       "    .dataframe thead th {\n",
       "        text-align: right;\n",
       "    }\n",
       "</style>\n",
       "<table border=\"1\" class=\"dataframe\">\n",
       "  <thead>\n",
       "    <tr style=\"text-align: right;\">\n",
       "      <th></th>\n",
       "      <th>_id</th>\n",
       "      <th>tags</th>\n",
       "      <th>description</th>\n",
       "    </tr>\n",
       "  </thead>\n",
       "  <tbody>\n",
       "    <tr>\n",
       "      <th>0</th>\n",
       "      <td>4</td>\n",
       "      <td>&lt;c#&gt;&lt;floating-point&gt;&lt;type-conversion&gt;&lt;double&gt;&lt;...</td>\n",
       "      <td>&lt;p&gt;I want to use a &lt;code&gt;Track-Bar&lt;/code&gt; to c...</td>\n",
       "    </tr>\n",
       "    <tr>\n",
       "      <th>1</th>\n",
       "      <td>6</td>\n",
       "      <td>&lt;html&gt;&lt;css&gt;&lt;internet-explorer-7&gt;</td>\n",
       "      <td>&lt;p&gt;I have an absolutely positioned &lt;code&gt;div&lt;/...</td>\n",
       "    </tr>\n",
       "    <tr>\n",
       "      <th>3</th>\n",
       "      <td>9</td>\n",
       "      <td>&lt;c#&gt;&lt;.net&gt;&lt;datetime&gt;</td>\n",
       "      <td>&lt;p&gt;Given a &lt;code&gt;DateTime&lt;/code&gt; representing ...</td>\n",
       "    </tr>\n",
       "    <tr>\n",
       "      <th>4</th>\n",
       "      <td>11</td>\n",
       "      <td>&lt;c#&gt;&lt;datetime&gt;&lt;time&gt;&lt;datediff&gt;&lt;relative-time-s...</td>\n",
       "      <td>&lt;p&gt;Given a specific &lt;code&gt;DateTime&lt;/code&gt; valu...</td>\n",
       "    </tr>\n",
       "    <tr>\n",
       "      <th>6</th>\n",
       "      <td>13</td>\n",
       "      <td>&lt;html&gt;&lt;browser&gt;&lt;timezone&gt;&lt;user-agent&gt;&lt;timezone...</td>\n",
       "      <td>&lt;p&gt;Is there a standard way for a web server to...</td>\n",
       "    </tr>\n",
       "  </tbody>\n",
       "</table>\n",
       "</div>"
      ],
      "text/plain": [
       "   _id                                               tags  \\\n",
       "0    4  <c#><floating-point><type-conversion><double><...   \n",
       "1    6                   <html><css><internet-explorer-7>   \n",
       "3    9                               <c#><.net><datetime>   \n",
       "4   11  <c#><datetime><time><datediff><relative-time-s...   \n",
       "6   13  <html><browser><timezone><user-agent><timezone...   \n",
       "\n",
       "                                         description  \n",
       "0  <p>I want to use a <code>Track-Bar</code> to c...  \n",
       "1  <p>I have an absolutely positioned <code>div</...  \n",
       "3  <p>Given a <code>DateTime</code> representing ...  \n",
       "4  <p>Given a specific <code>DateTime</code> valu...  \n",
       "6  <p>Is there a standard way for a web server to...  "
      ]
     },
     "execution_count": 8,
     "metadata": {},
     "output_type": "execute_result"
    }
   ],
   "source": [
    "data_blogs.head()"
   ]
  },
  {
   "cell_type": "markdown",
   "metadata": {},
   "source": [
    "# Cleaning tags in dataset"
   ]
  },
  {
   "cell_type": "code",
   "execution_count": 9,
   "metadata": {},
   "outputs": [],
   "source": [
    "def tags_to_list(tags): \n",
    "    clean_tags = str(tags).split('>')[:-1]\n",
    "    tags_filtered = []\n",
    "    \n",
    "    for tag in clean_tags:\n",
    "        tags_filtered.append(tag[1:])\n",
    "            \n",
    "    return tags_filtered"
   ]
  },
  {
   "cell_type": "code",
   "execution_count": 10,
   "metadata": {},
   "outputs": [
    {
     "data": {
      "text/html": [
       "<div>\n",
       "<style scoped>\n",
       "    .dataframe tbody tr th:only-of-type {\n",
       "        vertical-align: middle;\n",
       "    }\n",
       "\n",
       "    .dataframe tbody tr th {\n",
       "        vertical-align: top;\n",
       "    }\n",
       "\n",
       "    .dataframe thead th {\n",
       "        text-align: right;\n",
       "    }\n",
       "</style>\n",
       "<table border=\"1\" class=\"dataframe\">\n",
       "  <thead>\n",
       "    <tr style=\"text-align: right;\">\n",
       "      <th></th>\n",
       "      <th>_id</th>\n",
       "      <th>tags</th>\n",
       "      <th>description</th>\n",
       "    </tr>\n",
       "  </thead>\n",
       "  <tbody>\n",
       "    <tr>\n",
       "      <th>0</th>\n",
       "      <td>4</td>\n",
       "      <td>[c#, floating-point, type-conversion, double, ...</td>\n",
       "      <td>&lt;p&gt;I want to use a &lt;code&gt;Track-Bar&lt;/code&gt; to c...</td>\n",
       "    </tr>\n",
       "    <tr>\n",
       "      <th>1</th>\n",
       "      <td>6</td>\n",
       "      <td>[html, css, internet-explorer-7]</td>\n",
       "      <td>&lt;p&gt;I have an absolutely positioned &lt;code&gt;div&lt;/...</td>\n",
       "    </tr>\n",
       "    <tr>\n",
       "      <th>3</th>\n",
       "      <td>9</td>\n",
       "      <td>[c#, .net, datetime]</td>\n",
       "      <td>&lt;p&gt;Given a &lt;code&gt;DateTime&lt;/code&gt; representing ...</td>\n",
       "    </tr>\n",
       "    <tr>\n",
       "      <th>4</th>\n",
       "      <td>11</td>\n",
       "      <td>[c#, datetime, time, datediff, relative-time-s...</td>\n",
       "      <td>&lt;p&gt;Given a specific &lt;code&gt;DateTime&lt;/code&gt; valu...</td>\n",
       "    </tr>\n",
       "    <tr>\n",
       "      <th>6</th>\n",
       "      <td>13</td>\n",
       "      <td>[html, browser, timezone, user-agent, timezone...</td>\n",
       "      <td>&lt;p&gt;Is there a standard way for a web server to...</td>\n",
       "    </tr>\n",
       "  </tbody>\n",
       "</table>\n",
       "</div>"
      ],
      "text/plain": [
       "   _id                                               tags  \\\n",
       "0    4  [c#, floating-point, type-conversion, double, ...   \n",
       "1    6                   [html, css, internet-explorer-7]   \n",
       "3    9                               [c#, .net, datetime]   \n",
       "4   11  [c#, datetime, time, datediff, relative-time-s...   \n",
       "6   13  [html, browser, timezone, user-agent, timezone...   \n",
       "\n",
       "                                         description  \n",
       "0  <p>I want to use a <code>Track-Bar</code> to c...  \n",
       "1  <p>I have an absolutely positioned <code>div</...  \n",
       "3  <p>Given a <code>DateTime</code> representing ...  \n",
       "4  <p>Given a specific <code>DateTime</code> valu...  \n",
       "6  <p>Is there a standard way for a web server to...  "
      ]
     },
     "execution_count": 10,
     "metadata": {},
     "output_type": "execute_result"
    }
   ],
   "source": [
    "data_blogs['tags'] = data_blogs['tags'].apply(lambda x: tags_to_list(x))\n",
    "data_blogs.head()"
   ]
  },
  {
   "cell_type": "code",
   "execution_count": 11,
   "metadata": {},
   "outputs": [],
   "source": [
    "tags=[]\n",
    "for i in data_blogs['tags']:\n",
    "    for j in i:\n",
    "        if j not in tags:\n",
    "            tags.append(j)"
   ]
  },
  {
   "cell_type": "code",
   "execution_count": 12,
   "metadata": {},
   "outputs": [
    {
     "data": {
      "text/plain": [
       "3595"
      ]
     },
     "execution_count": 12,
     "metadata": {},
     "output_type": "execute_result"
    }
   ],
   "source": [
    "len(tags)"
   ]
  },
  {
   "cell_type": "markdown",
   "metadata": {},
   "source": [
    "# Cleaning Dsecription in dataset"
   ]
  },
  {
   "cell_type": "code",
   "execution_count": 13,
   "metadata": {},
   "outputs": [],
   "source": [
    "def clean_text(text):\n",
    "    ''' Lowering text and removing undesirable marks\n",
    "\n",
    "    Parameter:\n",
    "    \n",
    "    text: document to be cleaned    \n",
    "    '''\n",
    "    \n",
    "    text = text.lower()\n",
    "    text = re.sub(r\"\\'\\n\", \" \", text)\n",
    "    text = re.sub(r\"\\'\\xa0\", \" \", text)\n",
    "    text = re.sub('\\s+', ' ', text) # matches all whitespace characters\n",
    "    text = text.strip(' ')\n",
    "    return text"
   ]
  },
  {
   "cell_type": "code",
   "execution_count": 14,
   "metadata": {},
   "outputs": [
    {
     "data": {
      "text/html": [
       "<div>\n",
       "<style scoped>\n",
       "    .dataframe tbody tr th:only-of-type {\n",
       "        vertical-align: middle;\n",
       "    }\n",
       "\n",
       "    .dataframe tbody tr th {\n",
       "        vertical-align: top;\n",
       "    }\n",
       "\n",
       "    .dataframe thead th {\n",
       "        text-align: right;\n",
       "    }\n",
       "</style>\n",
       "<table border=\"1\" class=\"dataframe\">\n",
       "  <thead>\n",
       "    <tr style=\"text-align: right;\">\n",
       "      <th></th>\n",
       "      <th>_id</th>\n",
       "      <th>tags</th>\n",
       "      <th>description</th>\n",
       "    </tr>\n",
       "  </thead>\n",
       "  <tbody>\n",
       "    <tr>\n",
       "      <th>0</th>\n",
       "      <td>4</td>\n",
       "      <td>[c#, floating-point, type-conversion, double, ...</td>\n",
       "      <td>&lt;p&gt;i want to use a &lt;code&gt;track-bar&lt;/code&gt; to c...</td>\n",
       "    </tr>\n",
       "    <tr>\n",
       "      <th>1</th>\n",
       "      <td>6</td>\n",
       "      <td>[html, css, internet-explorer-7]</td>\n",
       "      <td>&lt;p&gt;i have an absolutely positioned &lt;code&gt;div&lt;/...</td>\n",
       "    </tr>\n",
       "    <tr>\n",
       "      <th>3</th>\n",
       "      <td>9</td>\n",
       "      <td>[c#, .net, datetime]</td>\n",
       "      <td>&lt;p&gt;given a &lt;code&gt;datetime&lt;/code&gt; representing ...</td>\n",
       "    </tr>\n",
       "    <tr>\n",
       "      <th>4</th>\n",
       "      <td>11</td>\n",
       "      <td>[c#, datetime, time, datediff, relative-time-s...</td>\n",
       "      <td>&lt;p&gt;given a specific &lt;code&gt;datetime&lt;/code&gt; valu...</td>\n",
       "    </tr>\n",
       "    <tr>\n",
       "      <th>6</th>\n",
       "      <td>13</td>\n",
       "      <td>[html, browser, timezone, user-agent, timezone...</td>\n",
       "      <td>&lt;p&gt;is there a standard way for a web server to...</td>\n",
       "    </tr>\n",
       "  </tbody>\n",
       "</table>\n",
       "</div>"
      ],
      "text/plain": [
       "   _id                                               tags  \\\n",
       "0    4  [c#, floating-point, type-conversion, double, ...   \n",
       "1    6                   [html, css, internet-explorer-7]   \n",
       "3    9                               [c#, .net, datetime]   \n",
       "4   11  [c#, datetime, time, datediff, relative-time-s...   \n",
       "6   13  [html, browser, timezone, user-agent, timezone...   \n",
       "\n",
       "                                         description  \n",
       "0  <p>i want to use a <code>track-bar</code> to c...  \n",
       "1  <p>i have an absolutely positioned <code>div</...  \n",
       "3  <p>given a <code>datetime</code> representing ...  \n",
       "4  <p>given a specific <code>datetime</code> valu...  \n",
       "6  <p>is there a standard way for a web server to...  "
      ]
     },
     "execution_count": 14,
     "metadata": {},
     "output_type": "execute_result"
    }
   ],
   "source": [
    "data_blogs['description'] = data_blogs['description'].apply(lambda x: clean_text(x))\n",
    "data_blogs.head()"
   ]
  },
  {
   "cell_type": "code",
   "execution_count": 15,
   "metadata": {},
   "outputs": [
    {
     "data": {
      "text/html": [
       "<div>\n",
       "<style scoped>\n",
       "    .dataframe tbody tr th:only-of-type {\n",
       "        vertical-align: middle;\n",
       "    }\n",
       "\n",
       "    .dataframe tbody tr th {\n",
       "        vertical-align: top;\n",
       "    }\n",
       "\n",
       "    .dataframe thead th {\n",
       "        text-align: right;\n",
       "    }\n",
       "</style>\n",
       "<table border=\"1\" class=\"dataframe\">\n",
       "  <thead>\n",
       "    <tr style=\"text-align: right;\">\n",
       "      <th></th>\n",
       "      <th>_id</th>\n",
       "      <th>tags</th>\n",
       "      <th>description</th>\n",
       "    </tr>\n",
       "  </thead>\n",
       "  <tbody>\n",
       "    <tr>\n",
       "      <th>0</th>\n",
       "      <td>4</td>\n",
       "      <td>[c#, floating-point, type-conversion, double, ...</td>\n",
       "      <td>i want to use a track-bar to change a form's o...</td>\n",
       "    </tr>\n",
       "    <tr>\n",
       "      <th>1</th>\n",
       "      <td>6</td>\n",
       "      <td>[html, css, internet-explorer-7]</td>\n",
       "      <td>i have an absolutely positioned div containing...</td>\n",
       "    </tr>\n",
       "    <tr>\n",
       "      <th>3</th>\n",
       "      <td>9</td>\n",
       "      <td>[c#, .net, datetime]</td>\n",
       "      <td>given a datetime representing a person's birth...</td>\n",
       "    </tr>\n",
       "    <tr>\n",
       "      <th>4</th>\n",
       "      <td>11</td>\n",
       "      <td>[c#, datetime, time, datediff, relative-time-s...</td>\n",
       "      <td>given a specific datetime value, how do i disp...</td>\n",
       "    </tr>\n",
       "    <tr>\n",
       "      <th>6</th>\n",
       "      <td>13</td>\n",
       "      <td>[html, browser, timezone, user-agent, timezone...</td>\n",
       "      <td>is there a standard way for a web server to be...</td>\n",
       "    </tr>\n",
       "  </tbody>\n",
       "</table>\n",
       "</div>"
      ],
      "text/plain": [
       "   _id                                               tags  \\\n",
       "0    4  [c#, floating-point, type-conversion, double, ...   \n",
       "1    6                   [html, css, internet-explorer-7]   \n",
       "3    9                               [c#, .net, datetime]   \n",
       "4   11  [c#, datetime, time, datediff, relative-time-s...   \n",
       "6   13  [html, browser, timezone, user-agent, timezone...   \n",
       "\n",
       "                                         description  \n",
       "0  i want to use a track-bar to change a form's o...  \n",
       "1  i have an absolutely positioned div containing...  \n",
       "3  given a datetime representing a person's birth...  \n",
       "4  given a specific datetime value, how do i disp...  \n",
       "6  is there a standard way for a web server to be...  "
      ]
     },
     "execution_count": 15,
     "metadata": {},
     "output_type": "execute_result"
    }
   ],
   "source": [
    "# the text of the post, without tags or markup\n",
    "data_blogs['description'] = data_blogs['description'].apply(lambda x: BeautifulSoup(x).get_text())\n",
    "data_blogs.head()"
   ]
  },
  {
   "cell_type": "code",
   "execution_count": 16,
   "metadata": {},
   "outputs": [],
   "source": [
    "def strip_list_noempty(mylist):\n",
    "    \n",
    "    newlist = (item.strip() if hasattr(item, 'strip') else item for item in mylist)\n",
    "    \n",
    "    return [item for item in newlist if item != '']"
   ]
  },
  {
   "cell_type": "code",
   "execution_count": 17,
   "metadata": {},
   "outputs": [],
   "source": [
    "def clean_punct(text): \n",
    "    ''' Remove all the punctuation from text, unless it's part of an important \n",
    "    tag (ex: c++, c#, etc)\n",
    "\n",
    "    Parameter:\n",
    "    \n",
    "    text: document to remove punctuation from it\n",
    "    '''\n",
    "\n",
    "    words = token.tokenize(text)\n",
    "    punctuation_filtered = []\n",
    "    regex = re.compile('[%s]' % re.escape(punctuation))\n",
    "    remove_punctuation = str.maketrans(' ', ' ', punctuation)\n",
    "    \n",
    "    for w in words:\n",
    "        if w in tags:\n",
    "            punctuation_filtered.append(w)\n",
    "        else:\n",
    "            w = re.sub('^[0-9]*', \" \", w)\n",
    "            punctuation_filtered.append(regex.sub('', w))\n",
    "    filtered_list = strip_list_noempty(punctuation_filtered)\n",
    "        \n",
    "    return ' '.join(map(str, filtered_list))"
   ]
  },
  {
   "cell_type": "code",
   "execution_count": 18,
   "metadata": {},
   "outputs": [],
   "source": [
    "token = ToktokTokenizer()"
   ]
  },
  {
   "cell_type": "code",
   "execution_count": 19,
   "metadata": {},
   "outputs": [
    {
     "data": {
      "text/html": [
       "<div>\n",
       "<style scoped>\n",
       "    .dataframe tbody tr th:only-of-type {\n",
       "        vertical-align: middle;\n",
       "    }\n",
       "\n",
       "    .dataframe tbody tr th {\n",
       "        vertical-align: top;\n",
       "    }\n",
       "\n",
       "    .dataframe thead th {\n",
       "        text-align: right;\n",
       "    }\n",
       "</style>\n",
       "<table border=\"1\" class=\"dataframe\">\n",
       "  <thead>\n",
       "    <tr style=\"text-align: right;\">\n",
       "      <th></th>\n",
       "      <th>_id</th>\n",
       "      <th>tags</th>\n",
       "      <th>description</th>\n",
       "    </tr>\n",
       "  </thead>\n",
       "  <tbody>\n",
       "    <tr>\n",
       "      <th>0</th>\n",
       "      <td>4</td>\n",
       "      <td>[c#, floating-point, type-conversion, double, ...</td>\n",
       "      <td>i want to use a trackbar to change a form s op...</td>\n",
       "    </tr>\n",
       "    <tr>\n",
       "      <th>1</th>\n",
       "      <td>6</td>\n",
       "      <td>[html, css, internet-explorer-7]</td>\n",
       "      <td>i have an absolutely positioned div containing...</td>\n",
       "    </tr>\n",
       "    <tr>\n",
       "      <th>3</th>\n",
       "      <td>9</td>\n",
       "      <td>[c#, .net, datetime]</td>\n",
       "      <td>given a datetime representing a person s birth...</td>\n",
       "    </tr>\n",
       "    <tr>\n",
       "      <th>4</th>\n",
       "      <td>11</td>\n",
       "      <td>[c#, datetime, time, datediff, relative-time-s...</td>\n",
       "      <td>given a specific datetime value how do i displ...</td>\n",
       "    </tr>\n",
       "    <tr>\n",
       "      <th>6</th>\n",
       "      <td>13</td>\n",
       "      <td>[html, browser, timezone, user-agent, timezone...</td>\n",
       "      <td>is there a standard way for a web server to be...</td>\n",
       "    </tr>\n",
       "  </tbody>\n",
       "</table>\n",
       "</div>"
      ],
      "text/plain": [
       "   _id                                               tags  \\\n",
       "0    4  [c#, floating-point, type-conversion, double, ...   \n",
       "1    6                   [html, css, internet-explorer-7]   \n",
       "3    9                               [c#, .net, datetime]   \n",
       "4   11  [c#, datetime, time, datediff, relative-time-s...   \n",
       "6   13  [html, browser, timezone, user-agent, timezone...   \n",
       "\n",
       "                                         description  \n",
       "0  i want to use a trackbar to change a form s op...  \n",
       "1  i have an absolutely positioned div containing...  \n",
       "3  given a datetime representing a person s birth...  \n",
       "4  given a specific datetime value how do i displ...  \n",
       "6  is there a standard way for a web server to be...  "
      ]
     },
     "execution_count": 19,
     "metadata": {},
     "output_type": "execute_result"
    }
   ],
   "source": [
    "data_blogs['description'] = data_blogs['description'].apply(lambda x: clean_punct(x))\n",
    "data_blogs.head()"
   ]
  },
  {
   "cell_type": "code",
   "execution_count": 20,
   "metadata": {},
   "outputs": [],
   "source": [
    "nlp = spacy.load(\"en_core_web_sm\", disable=['parser', 'ner'])\n",
    "stop_words = nlp.Defaults.stop_words"
   ]
  },
  {
   "cell_type": "code",
   "execution_count": 21,
   "metadata": {},
   "outputs": [],
   "source": [
    "def stopWordsRemove(text):\n",
    "    ''' Removing all the english stop words from a corpus\n",
    "\n",
    "    Parameter:\n",
    "\n",
    "    text: document to remove stop words from it\n",
    "    '''\n",
    "\n",
    "    words = token.tokenize(text)\n",
    "    filtered = [w for w in words if not w in stop_words]\n",
    "    \n",
    "    return ' '.join(map(str, filtered))"
   ]
  },
  {
   "cell_type": "code",
   "execution_count": 22,
   "metadata": {},
   "outputs": [],
   "source": [
    "def lemmatization(texts, allowed_postags):\n",
    "    ''' It keeps the lemma of the words (lemma is the uninflected form of a word),\n",
    "    and deletes the underired POS tags\n",
    "    \n",
    "    Parameters:\n",
    "    \n",
    "    texts (list): text to lemmatize\n",
    "    allowed_postags (list): list of allowed postags, like NOUN, ADL, VERB, ADV\n",
    "    '''\n",
    "    \n",
    "    lemma = wordnet.WordNetLemmatizer()       \n",
    "    doc = nlp(texts) \n",
    "    texts_out = []\n",
    "    \n",
    "    for token in doc:\n",
    "        \n",
    "        if str(token) in tags:\n",
    "            texts_out.append(str(token))\n",
    "            \n",
    "        elif token.pos_ in allowed_postags:\n",
    "            \n",
    "            if token.lemma_ not in ['-PRON-']:\n",
    "                texts_out.append(token.lemma_)\n",
    "                \n",
    "            else:\n",
    "                texts_out.append('')\n",
    "\n",
    "    return texts_out"
   ]
  },
  {
   "cell_type": "code",
   "execution_count": 23,
   "metadata": {},
   "outputs": [
    {
     "data": {
      "text/html": [
       "<div>\n",
       "<style scoped>\n",
       "    .dataframe tbody tr th:only-of-type {\n",
       "        vertical-align: middle;\n",
       "    }\n",
       "\n",
       "    .dataframe tbody tr th {\n",
       "        vertical-align: top;\n",
       "    }\n",
       "\n",
       "    .dataframe thead th {\n",
       "        text-align: right;\n",
       "    }\n",
       "</style>\n",
       "<table border=\"1\" class=\"dataframe\">\n",
       "  <thead>\n",
       "    <tr style=\"text-align: right;\">\n",
       "      <th></th>\n",
       "      <th>_id</th>\n",
       "      <th>tags</th>\n",
       "      <th>description</th>\n",
       "    </tr>\n",
       "  </thead>\n",
       "  <tbody>\n",
       "    <tr>\n",
       "      <th>0</th>\n",
       "      <td>4</td>\n",
       "      <td>[c#, floating-point, type-conversion, double, ...</td>\n",
       "      <td>want use trackbar change form s opacity code d...</td>\n",
       "    </tr>\n",
       "    <tr>\n",
       "      <th>1</th>\n",
       "      <td>6</td>\n",
       "      <td>[html, css, internet-explorer-7]</td>\n",
       "      <td>absolutely positioned div containing children ...</td>\n",
       "    </tr>\n",
       "    <tr>\n",
       "      <th>3</th>\n",
       "      <td>9</td>\n",
       "      <td>[c#, .net, datetime]</td>\n",
       "      <td>given datetime representing person s birthday ...</td>\n",
       "    </tr>\n",
       "    <tr>\n",
       "      <th>4</th>\n",
       "      <td>11</td>\n",
       "      <td>[c#, datetime, time, datediff, relative-time-s...</td>\n",
       "      <td>given specific datetime value display relative...</td>\n",
       "    </tr>\n",
       "    <tr>\n",
       "      <th>6</th>\n",
       "      <td>13</td>\n",
       "      <td>[html, browser, timezone, user-agent, timezone...</td>\n",
       "      <td>standard way web server able determine user s ...</td>\n",
       "    </tr>\n",
       "  </tbody>\n",
       "</table>\n",
       "</div>"
      ],
      "text/plain": [
       "   _id                                               tags  \\\n",
       "0    4  [c#, floating-point, type-conversion, double, ...   \n",
       "1    6                   [html, css, internet-explorer-7]   \n",
       "3    9                               [c#, .net, datetime]   \n",
       "4   11  [c#, datetime, time, datediff, relative-time-s...   \n",
       "6   13  [html, browser, timezone, user-agent, timezone...   \n",
       "\n",
       "                                         description  \n",
       "0  want use trackbar change form s opacity code d...  \n",
       "1  absolutely positioned div containing children ...  \n",
       "3  given datetime representing person s birthday ...  \n",
       "4  given specific datetime value display relative...  \n",
       "6  standard way web server able determine user s ...  "
      ]
     },
     "execution_count": 23,
     "metadata": {},
     "output_type": "execute_result"
    }
   ],
   "source": [
    "data_blogs['description'] = data_blogs['description'].apply(lambda x: stopWordsRemove(x)) \n",
    "data_blogs.head()"
   ]
  },
  {
   "cell_type": "code",
   "execution_count": 24,
   "metadata": {},
   "outputs": [
    {
     "data": {
      "text/html": [
       "<div>\n",
       "<style scoped>\n",
       "    .dataframe tbody tr th:only-of-type {\n",
       "        vertical-align: middle;\n",
       "    }\n",
       "\n",
       "    .dataframe tbody tr th {\n",
       "        vertical-align: top;\n",
       "    }\n",
       "\n",
       "    .dataframe thead th {\n",
       "        text-align: right;\n",
       "    }\n",
       "</style>\n",
       "<table border=\"1\" class=\"dataframe\">\n",
       "  <thead>\n",
       "    <tr style=\"text-align: right;\">\n",
       "      <th></th>\n",
       "      <th>_id</th>\n",
       "      <th>tags</th>\n",
       "      <th>description</th>\n",
       "    </tr>\n",
       "  </thead>\n",
       "  <tbody>\n",
       "    <tr>\n",
       "      <th>0</th>\n",
       "      <td>4</td>\n",
       "      <td>[c#, floating-point, type-conversion, double, ...</td>\n",
       "      <td>[use, trackbar, change, form, decimal, thisopa...</td>\n",
       "    </tr>\n",
       "    <tr>\n",
       "      <th>1</th>\n",
       "      <td>6</td>\n",
       "      <td>[html, css, internet-explorer-7]</td>\n",
       "      <td>[absolutely, div, children, relatively, use, c...</td>\n",
       "    </tr>\n",
       "    <tr>\n",
       "      <th>3</th>\n",
       "      <td>9</td>\n",
       "      <td>[c#, .net, datetime]</td>\n",
       "      <td>[datetime, person, birthday, calculate, age, y...</td>\n",
       "    </tr>\n",
       "    <tr>\n",
       "      <th>4</th>\n",
       "      <td>11</td>\n",
       "      <td>[c#, datetime, time, datediff, relative-time-s...</td>\n",
       "      <td>[datetime, value, display, time, hour, ago, da...</td>\n",
       "    </tr>\n",
       "    <tr>\n",
       "      <th>6</th>\n",
       "      <td>13</td>\n",
       "      <td>[html, browser, timezone, user-agent, timezone...</td>\n",
       "      <td>[way, web, server, determine, timezone, web, p...</td>\n",
       "    </tr>\n",
       "  </tbody>\n",
       "</table>\n",
       "</div>"
      ],
      "text/plain": [
       "   _id                                               tags  \\\n",
       "0    4  [c#, floating-point, type-conversion, double, ...   \n",
       "1    6                   [html, css, internet-explorer-7]   \n",
       "3    9                               [c#, .net, datetime]   \n",
       "4   11  [c#, datetime, time, datediff, relative-time-s...   \n",
       "6   13  [html, browser, timezone, user-agent, timezone...   \n",
       "\n",
       "                                         description  \n",
       "0  [use, trackbar, change, form, decimal, thisopa...  \n",
       "1  [absolutely, div, children, relatively, use, c...  \n",
       "3  [datetime, person, birthday, calculate, age, y...  \n",
       "4  [datetime, value, display, time, hour, ago, da...  \n",
       "6  [way, web, server, determine, timezone, web, p...  "
      ]
     },
     "execution_count": 24,
     "metadata": {},
     "output_type": "execute_result"
    }
   ],
   "source": [
    "data_blogs['description'] = data_blogs['description'].apply(lambda x: lemmatization(x, ['NOUN', 'ADV']))\n",
    "data_blogs.head()"
   ]
  },
  {
   "cell_type": "code",
   "execution_count": 25,
   "metadata": {},
   "outputs": [
    {
     "data": {
      "text/html": [
       "<div>\n",
       "<style scoped>\n",
       "    .dataframe tbody tr th:only-of-type {\n",
       "        vertical-align: middle;\n",
       "    }\n",
       "\n",
       "    .dataframe tbody tr th {\n",
       "        vertical-align: top;\n",
       "    }\n",
       "\n",
       "    .dataframe thead th {\n",
       "        text-align: right;\n",
       "    }\n",
       "</style>\n",
       "<table border=\"1\" class=\"dataframe\">\n",
       "  <thead>\n",
       "    <tr style=\"text-align: right;\">\n",
       "      <th></th>\n",
       "      <th>_id</th>\n",
       "      <th>new_tags</th>\n",
       "    </tr>\n",
       "  </thead>\n",
       "  <tbody>\n",
       "    <tr>\n",
       "      <th>0</th>\n",
       "      <td>4</td>\n",
       "      <td>[c#, floating-point, type-conversion, double, ...</td>\n",
       "    </tr>\n",
       "    <tr>\n",
       "      <th>1</th>\n",
       "      <td>6</td>\n",
       "      <td>[html, css, internet-explorer-7, absolutely, d...</td>\n",
       "    </tr>\n",
       "    <tr>\n",
       "      <th>3</th>\n",
       "      <td>9</td>\n",
       "      <td>[c#, .net, datetime, datetime, person, birthda...</td>\n",
       "    </tr>\n",
       "    <tr>\n",
       "      <th>4</th>\n",
       "      <td>11</td>\n",
       "      <td>[c#, datetime, time, datediff, relative-time-s...</td>\n",
       "    </tr>\n",
       "    <tr>\n",
       "      <th>6</th>\n",
       "      <td>13</td>\n",
       "      <td>[html, browser, timezone, user-agent, timezone...</td>\n",
       "    </tr>\n",
       "  </tbody>\n",
       "</table>\n",
       "</div>"
      ],
      "text/plain": [
       "   _id                                           new_tags\n",
       "0    4  [c#, floating-point, type-conversion, double, ...\n",
       "1    6  [html, css, internet-explorer-7, absolutely, d...\n",
       "3    9  [c#, .net, datetime, datetime, person, birthda...\n",
       "4   11  [c#, datetime, time, datediff, relative-time-s...\n",
       "6   13  [html, browser, timezone, user-agent, timezone..."
      ]
     },
     "execution_count": 25,
     "metadata": {},
     "output_type": "execute_result"
    }
   ],
   "source": [
    "data_blogs['new_tags'] = data_blogs['tags']+data_blogs['description']\n",
    "data_blogs = data_blogs.drop(['tags','description'], axis = 1)\n",
    "data_blogs.head()"
   ]
  },
  {
   "cell_type": "markdown",
   "metadata": {},
   "source": [
    "# Word Embedding"
   ]
  },
  {
   "cell_type": "code",
   "execution_count": 26,
   "metadata": {},
   "outputs": [],
   "source": [
    "text=[]\n",
    "for i in data_blogs['new_tags']:\n",
    "    text.append(i)"
   ]
  },
  {
   "cell_type": "code",
   "execution_count": 27,
   "metadata": {},
   "outputs": [],
   "source": [
    "id2word = corpora.Dictionary(text)\n",
    "corpus = [id2word.doc2bow(i) for i in text]"
   ]
  },
  {
   "cell_type": "code",
   "execution_count": 28,
   "metadata": {},
   "outputs": [
    {
     "data": {
      "text/plain": [
       "[[('application', 1),\n",
       "  ('build', 1),\n",
       "  ('c#', 1),\n",
       "  ('change', 1),\n",
       "  ('code', 1),\n",
       "  ('control', 1),\n",
       "  ('decimal', 3),\n",
       "  ('double', 3),\n",
       "  ('error', 1),\n",
       "  ('fine', 1),\n",
       "  ('floating-point', 1),\n",
       "  ('form', 1),\n",
       "  ('implicitly', 1),\n",
       "  ('project', 1),\n",
       "  ('thisopacity', 1),\n",
       "  ('trackbar', 1),\n",
       "  ('tran', 2),\n",
       "  ('type', 1),\n",
       "  ('type-conversion', 1),\n",
       "  ('use', 1),\n",
       "  ('vb.net', 1)],\n",
       " [('use', 1),\n",
       "  ('absolutely', 1),\n",
       "  ('area', 1),\n",
       "  ('child', 3),\n",
       "  ('children', 1),\n",
       "  ('collapse', 1),\n",
       "  ('css', 2),\n",
       "  ('div', 2),\n",
       "  ('firefox', 1),\n",
       "  ('fix', 1),\n",
       "  ('html', 1),\n",
       "  ('internet-explorer-7', 1),\n",
       "  ('parent', 1),\n",
       "  ('percentage', 1),\n",
       "  ('relatively', 2),\n",
       "  ('safari', 1),\n",
       "  ('specification', 1),\n",
       "  ('width', 1)]]"
      ]
     },
     "execution_count": 28,
     "metadata": {},
     "output_type": "execute_result"
    }
   ],
   "source": [
    "[[(id2word[id], freq) for id, freq in cp] for cp in corpus[:2]]"
   ]
  },
  {
   "cell_type": "code",
   "execution_count": 29,
   "metadata": {},
   "outputs": [
    {
     "name": "stdout",
     "output_type": "stream",
     "text": [
      "[[(0, 1), (1, 1), (2, 1), (3, 1), (4, 1), (5, 1), (6, 3), (7, 3), (8, 1), (9, 1), (10, 1), (11, 1), (12, 1), (13, 1), (14, 1), (15, 1), (16, 2), (17, 1), (18, 1), (19, 1), (20, 1)]]\n"
     ]
    }
   ],
   "source": [
    "print(corpus[:1])"
   ]
  },
  {
   "cell_type": "markdown",
   "metadata": {},
   "source": [
    "# Applying LDA for topic modelling"
   ]
  },
  {
   "cell_type": "code",
   "execution_count": 30,
   "metadata": {},
   "outputs": [],
   "source": [
    "lda_model = gensim.models.ldamodel.LdaModel(corpus=corpus,\n",
    "                                           id2word=id2word,\n",
    "                                           num_topics=20, \n",
    "                                           random_state=100,\n",
    "                                           update_every=1,\n",
    "                                           chunksize=100,\n",
    "                                           passes=10,\n",
    "                                           per_word_topics=True)"
   ]
  },
  {
   "cell_type": "code",
   "execution_count": 31,
   "metadata": {},
   "outputs": [
    {
     "name": "stdout",
     "output_type": "stream",
     "text": [
      "[(0,\n",
      "  '0.085*\"error\" + 0.053*\"c++\" + 0.036*\"problem\" + 0.035*\"process\" + '\n",
      "  '0.035*\"find\" + 0.034*\"message\" + 0.032*\"program\" + 0.028*\"question\" + '\n",
      "  '0.028*\"edit\" + 0.023*\"output\"'),\n",
      " (1,\n",
      "  '0.221*\"xml\" + 0.124*\"ruby\" + 0.111*\"format\" + 0.059*\"resources\" + '\n",
      "  '0.057*\"approach\" + 0.048*\"better\" + 0.027*\"math\" + 0.025*\"comments\" + '\n",
      "  '0.018*\"part\" + 0.015*\"csv\"'),\n",
      " (2,\n",
      "  '0.223*\"page\" + 0.174*\"asp.net\" + 0.088*\"site\" + 0.066*\"display\" + '\n",
      "  '0.053*\"controls\" + 0.044*\"user\" + 0.042*\"menu\" + 0.029*\"view\" + '\n",
      "  '0.022*\"dynamically\" + 0.017*\"apache-flex\"'),\n",
      " (3,\n",
      "  '0.251*\"file\" + 0.045*\"end\" + 0.036*\"directory\" + 0.028*\"folder\" + '\n",
      "  '0.028*\"script\" + 0.022*\"size\" + 0.021*\"session\" + 0.020*\"line\" + '\n",
      "  '0.020*\"way\" + 0.020*\"copy\"'),\n",
      " (4,\n",
      "  '0.096*\"test\" + 0.086*\"php\" + 0.083*\"linux\" + 0.047*\"server\" + '\n",
      "  '0.046*\"testing\" + 0.044*\"line\" + 0.038*\"command\" + 0.038*\"option\" + '\n",
      "  '0.032*\"security\" + 0.031*\"place\"'),\n",
      " (5,\n",
      "  '0.129*\"function\" + 0.107*\"return\" + 0.102*\"value\" + 0.076*\"text\" + '\n",
      "  '0.059*\"null\" + 0.050*\"int\" + 0.041*\"window\" + 0.029*\"types\" + '\n",
      "  '0.028*\"dialog\" + 0.026*\"var\"'),\n",
      " (6,\n",
      "  '0.139*\"object\" + 0.135*\"type\" + 0.077*\"list\" + 0.061*\"form\" + 0.053*\"item\" '\n",
      "  '+ 0.038*\"interface\" + 0.034*\"element\" + 0.027*\"forms\" + 0.026*\"print\" + '\n",
      "  '0.024*\"collection\"'),\n",
      " (7,\n",
      "  '0.127*\"user\" + 0.056*\"version\" + 0.053*\"system\" + 0.049*\"control\" + '\n",
      "  '0.039*\"currently\" + 0.027*\"install\" + 0.026*\"application\" + 0.024*\"email\" + '\n",
      "  '0.023*\"group\" + 0.023*\"eclipse\"'),\n",
      " (8,\n",
      "  '0.082*\"machine\" + 0.081*\"number\" + 0.073*\"performance\" + 0.052*\"algorithm\" '\n",
      "  '+ 0.046*\"time\" + 0.045*\"variable\" + 0.042*\"compiler\" + 0.040*\"day\" + '\n",
      "  '0.040*\"configuration\" + 0.029*\"month\"'),\n",
      " (9,\n",
      "  '0.134*\"application\" + 0.102*\"web\" + 0.092*\"windows\" + 0.063*\"service\" + '\n",
      "  '0.053*\"client\" + 0.029*\"static\" + 0.027*\"screen\" + 0.025*\"app\" + '\n",
      "  '0.025*\"connection\" + 0.024*\"document\"'),\n",
      " (10,\n",
      "  '0.130*\"language\" + 0.094*\"header\" + 0.060*\"flash\" + 0.056*\"difference\" + '\n",
      "  '0.055*\"programming\" + 0.050*\"action\" + 0.045*\"character\" + 0.042*\"syntax\" + '\n",
      "  '0.032*\"language-agnostic\" + 0.026*\"length\"'),\n",
      " (11,\n",
      "  '0.143*\"javascript\" + 0.133*\"python\" + 0.076*\"browser\" + 0.054*\"oracle\" + '\n",
      "  '0.047*\"url\" + 0.047*\"request\" + 0.045*\"model\" + 0.032*\"http\" + 0.031*\"post\" '\n",
      "  '+ 0.025*\"validation\"'),\n",
      " (12,\n",
      "  '0.137*\"tool\" + 0.108*\"project\" + 0.101*\"build\" + 0.094*\"studio\" + 0.066*\"t\" '\n",
      "  '+ 0.047*\"visual-studio\" + 0.044*\"framework\" + 0.034*\"ide\" + '\n",
      "  '0.032*\"frameworks\" + 0.031*\"team\"'),\n",
      " (13,\n",
      "  '0.524*\"class\" + 0.104*\"library\" + 0.063*\"thread\" + 0.040*\"parent\" + '\n",
      "  '0.037*\"console\" + 0.006*\"timer\" + 0.004*\"main\" + 0.002*\"tick\" + '\n",
      "  '0.001*\"close\" + 0.000*\"self\"'),\n",
      " (14,\n",
      "  '0.098*\"datum\" + 0.073*\"d\" + 0.056*\"set\" + 0.039*\"field\" + 0.038*\"value\" + '\n",
      "  '0.030*\"input\" + 0.027*\"t\" + 0.027*\"button\" + 0.025*\"key\" + 0.024*\"text\"'),\n",
      " (15,\n",
      "  '0.266*\"string\" + 0.252*\"java\" + 0.065*\"method\" + 0.040*\"properties\" + '\n",
      "  '0.037*\"year\" + 0.027*\"insert\" + 0.025*\"probably\" + 0.019*\"replace\" + '\n",
      "  '0.018*\"way\" + 0.018*\"easily\"'),\n",
      " (16,\n",
      "  '0.102*\".net\" + 0.090*\"c\" + 0.051*\"c#\" + 0.046*\"code\" + 0.041*\"exception\" + '\n",
      "  '0.032*\"information\" + 0.028*\"property\" + 0.028*\"way\" + 0.027*\"memory\" + '\n",
      "  '0.022*\"need\"'),\n",
      " (17,\n",
      "  '0.169*\"database\" + 0.112*\"sql\" + 0.086*\"table\" + 0.085*\"server\" + '\n",
      "  '0.064*\"select\" + 0.043*\"column\" + 0.030*\"sql-server\" + 0.028*\"row\" + '\n",
      "  '0.025*\"query\" + 0.022*\"report\"'),\n",
      " (18,\n",
      "  '0.036*\"code\" + 0.035*\"server\" + 0.029*\"solution\" + 0.027*\"time\" + '\n",
      "  '0.027*\"use\" + 0.026*\"date\" + 0.025*\"work\" + 0.020*\"thing\" + 0.019*\"lot\" + '\n",
      "  '0.019*\"way\"'),\n",
      " (19,\n",
      "  '0.161*\"html\" + 0.146*\"image\" + 0.071*\"css\" + 0.059*\"firefox\" + '\n",
      "  '0.052*\"platform\" + 0.043*\"video\" + 0.037*\"know\" + 0.033*\"area\" + '\n",
      "  '0.033*\"pdf\" + 0.030*\"scenario\"')]\n"
     ]
    }
   ],
   "source": [
    "# Print the Keyword in the 10 topics\n",
    "pprint(lda_model.print_topics())\n",
    "doc_lda = lda_model[corpus]"
   ]
  },
  {
   "cell_type": "markdown",
   "metadata": {},
   "source": [
    "# Computing perplexity and coherence score for model evaluation"
   ]
  },
  {
   "cell_type": "code",
   "execution_count": 32,
   "metadata": {},
   "outputs": [
    {
     "name": "stdout",
     "output_type": "stream",
     "text": [
      "\n",
      "Perplexity:  -14.173961245684652\n",
      "\n",
      "Coherence Score:  0.3705296334554257\n"
     ]
    }
   ],
   "source": [
    "# Compute Perplexity\n",
    "print('\\nPerplexity: ', lda_model.log_perplexity(corpus))  # a measure of how good the model is. lower the better.\n",
    "\n",
    "# Compute Coherence Score\n",
    "coherence_model_lda = CoherenceModel(model=lda_model, texts=text, dictionary=id2word, coherence='c_v')\n",
    "coherence_lda = coherence_model_lda.get_coherence()\n",
    "print('\\nCoherence Score: ', coherence_lda)"
   ]
  },
  {
   "cell_type": "markdown",
   "metadata": {},
   "source": [
    "# Applying model by varying number of topics to improve model performance"
   ]
  },
  {
   "cell_type": "code",
   "execution_count": 33,
   "metadata": {},
   "outputs": [],
   "source": [
    "def compute_values(dictionary, corpus, texts, start, limit, step):\n",
    "    perpexlity = []\n",
    "    coherence_values = []\n",
    "    model_list = []\n",
    "    for num_topics in range(start, limit, step):\n",
    "        model = gensim.models.ldamodel.LdaModel(corpus=corpus,\n",
    "                                           id2word=dictionary,\n",
    "                                           num_topics=num_topics, \n",
    "                                           random_state=100,\n",
    "                                           update_every=1,\n",
    "                                           chunksize=100,\n",
    "                                           passes=10,\n",
    "                                           alpha='auto',\n",
    "                                           per_word_topics=True)\n",
    "        model_list.append(model)\n",
    "        per = model.log_perplexity(corpus)\n",
    "        perpexlity.append(per)\n",
    "        coherencemodel = CoherenceModel(model=model, texts=texts, dictionary=dictionary, coherence='c_v')\n",
    "        coherence_values.append(coherencemodel.get_coherence())\n",
    "\n",
    "    return model_list, perpexlity, coherence_values"
   ]
  },
  {
   "cell_type": "code",
   "execution_count": 35,
   "metadata": {},
   "outputs": [],
   "source": [
    "model_list, perpexlity, coherence_values = compute_values(dictionary=id2word, corpus=corpus, texts=text, start=5, limit=30, step=5)"
   ]
  },
  {
   "cell_type": "code",
   "execution_count": 36,
   "metadata": {},
   "outputs": [
    {
     "data": {
      "image/png": "[encoded data removed]",
      "text/plain": [
       "<Figure size 432x288 with 1 Axes>"
      ]
     },
     "metadata": {
      "needs_background": "light"
     },
     "output_type": "display_data"
    }
   ],
   "source": [
    "limit=30; start=5; step=5;\n",
    "x = range(start, limit, step)\n",
    "plt.plot(x, coherence_values)\n",
    "plt.xlabel(\"Num Topics\")\n",
    "plt.ylabel(\"Coherence score\")\n",
    "plt.legend((\"coherence_values\"), loc='best')\n",
    "plt.show()"
   ]
  },
  {
   "cell_type": "code",
   "execution_count": 37,
   "metadata": {},
   "outputs": [
    {
     "data": {
      "image/png": "[encoded data removed]",
      "text/plain": [
       "<Figure size 432x288 with 1 Axes>"
      ]
     },
     "metadata": {
      "needs_background": "light"
     },
     "output_type": "display_data"
    }
   ],
   "source": [
    "limit=30; start=5; step=5;\n",
    "x = range(start, limit, step)\n",
    "plt.plot(x, perpexlity)\n",
    "plt.xlabel(\"Num Topics\")\n",
    "plt.ylabel(\"Perplexity score\")\n",
    "plt.legend((\"perplexity_values\"), loc='best')\n",
    "plt.show()"
   ]
  },
  {
   "cell_type": "markdown",
   "metadata": {},
   "source": [
    "From the above graphs it is clear that best model is at num_topics=5 as it is having low perplexity and high coherence score"
   ]
  },
  {
   "cell_type": "markdown",
   "metadata": {},
   "source": [
    "# Evaluating best model for unseen text"
   ]
  },
  {
   "cell_type": "code",
   "execution_count": 38,
   "metadata": {},
   "outputs": [],
   "source": [
    "new_model = model_list[0]"
   ]
  },
  {
   "cell_type": "code",
   "execution_count": 39,
   "metadata": {},
   "outputs": [
    {
     "name": "stdout",
     "output_type": "stream",
     "text": [
      "[(0,\n",
      "  '0.051*\"error\" + 0.023*\"linux\" + 0.021*\"service\" + 0.021*\"message\" + '\n",
      "  '0.014*\"windows\" + 0.014*\"output\" + 0.014*\"server\" + 0.012*\"window\" + '\n",
      "  '0.011*\"client\" + 0.010*\"api\"'),\n",
      " (1,\n",
      "  '0.045*\"class\" + 0.036*\"string\" + 0.035*\"c\" + 0.033*\"java\" + 0.027*\"object\" '\n",
      "  '+ 0.027*\"function\" + 0.022*\"c++\" + 0.022*\"return\" + 0.021*\"type\" + '\n",
      "  '0.018*\"javascript\"'),\n",
      " (2,\n",
      "  '0.024*\"page\" + 0.023*\"text\" + 0.023*\"d\" + 0.021*\"table\" + 0.019*\"value\" + '\n",
      "  '0.019*\"asp.net\" + 0.016*\"xml\" + 0.015*\"select\" + 0.014*\"set\" + '\n",
      "  '0.014*\"html\"'),\n",
      " (3,\n",
      "  '0.031*\"file\" + 0.018*\"application\" + 0.017*\"way\" + 0.016*\"database\" + '\n",
      "  '0.014*\"server\" + 0.013*\".net\" + 0.013*\"time\" + 0.012*\"user\" + 0.011*\"datum\" '\n",
      "  '+ 0.010*\"use\"'),\n",
      " (4,\n",
      "  '0.028*\"test\" + 0.026*\"python\" + 0.025*\"php\" + 0.017*\"perl\" + 0.014*\"site\" + '\n",
      "  '0.014*\"ruby\" + 0.014*\"testing\" + 0.012*\"external\" + 0.012*\"module\" + '\n",
      "  '0.011*\"search\"')]\n"
     ]
    }
   ],
   "source": [
    "pprint(new_model.print_topics())"
   ]
  },
  {
   "cell_type": "code",
   "execution_count": 40,
   "metadata": {},
   "outputs": [],
   "source": [
    "new_doc = [\"page\",\"text\",\"service\",\"site\",\"value\"]"
   ]
  },
  {
   "cell_type": "code",
   "execution_count": 41,
   "metadata": {},
   "outputs": [
    {
     "data": {
      "text/plain": [
       "[(53, 1), (59, 1), (86, 1), (271, 1), (308, 1)]"
      ]
     },
     "execution_count": 41,
     "metadata": {},
     "output_type": "execute_result"
    }
   ],
   "source": [
    "dictionary = id2word.doc2bow(new_doc)\n",
    "dictionary"
   ]
  },
  {
   "cell_type": "code",
   "execution_count": 42,
   "metadata": {},
   "outputs": [],
   "source": [
    "vector = new_model.get_document_topics(dictionary)"
   ]
  },
  {
   "cell_type": "code",
   "execution_count": 43,
   "metadata": {},
   "outputs": [
    {
     "name": "stdout",
     "output_type": "stream",
     "text": [
      "(0, 0.15092614)\n",
      "(1, 0.106227964)\n",
      "(2, 0.336502)\n",
      "(3, 0.25065318)\n",
      "(4, 0.15569076)\n"
     ]
    }
   ],
   "source": [
    "for i in vector:\n",
    "    print(i)"
   ]
  },
  {
   "cell_type": "markdown",
   "metadata": {},
   "source": [
    "Conclusion: In the above cell you can see the probability of topic associated with text. Topic 2 is having largest probability of 0.33 association. "
   ]
  }
 ],
 "metadata": {
  "kernelspec": {
   "display_name": "Python 3",
   "language": "python",
   "name": "python3"
  },
  "language_info": {
   "codemirror_mode": {
    "name": "ipython",
    "version": 3
   },
   "file_extension": ".py",
   "mimetype": "text/x-python",
   "name": "python",
   "nbconvert_exporter": "python",
   "pygments_lexer": "ipython3",
   "version": "3.7.3"
  }
 },
 "nbformat": 4,
 "nbformat_minor": 2
}
